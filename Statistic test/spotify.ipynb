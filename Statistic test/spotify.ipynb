{
 "cells": [
  {
   "cell_type": "code",
   "execution_count": 306,
   "metadata": {},
   "outputs": [],
   "source": [
    "import pandas as pd\n",
    "import numpy as np\n",
    "import scipy.stats as sp\n",
    "import matplotlib.pyplot as plt\n",
    "import seaborn as sns\n",
    "from sklearn.preprocessing import QuantileTransformer"
   ]
  },
  {
   "cell_type": "code",
   "execution_count": 307,
   "metadata": {},
   "outputs": [],
   "source": [
    "def readData(dataset):\n",
    "    pd.set_option('display.max_columns', None)\n",
    "    data = pd.read_csv(dataset)\n",
    "    return data"
   ]
  },
  {
   "cell_type": "code",
   "execution_count": 308,
   "metadata": {},
   "outputs": [
    {
     "data": {
      "text/html": [
       "<div>\n",
       "<style scoped>\n",
       "    .dataframe tbody tr th:only-of-type {\n",
       "        vertical-align: middle;\n",
       "    }\n",
       "\n",
       "    .dataframe tbody tr th {\n",
       "        vertical-align: top;\n",
       "    }\n",
       "\n",
       "    .dataframe thead th {\n",
       "        text-align: right;\n",
       "    }\n",
       "</style>\n",
       "<table border=\"1\" class=\"dataframe\">\n",
       "  <thead>\n",
       "    <tr style=\"text-align: right;\">\n",
       "      <th></th>\n",
       "      <th>Track URI</th>\n",
       "      <th>Track Name</th>\n",
       "      <th>Artist URI(s)</th>\n",
       "      <th>Artist Name(s)</th>\n",
       "      <th>Album URI</th>\n",
       "      <th>Album Name</th>\n",
       "      <th>Album Artist URI(s)</th>\n",
       "      <th>Album Artist Name(s)</th>\n",
       "      <th>Album Release Date</th>\n",
       "      <th>Album Image URL</th>\n",
       "      <th>Disc Number</th>\n",
       "      <th>Track Number</th>\n",
       "      <th>Track Duration (ms)</th>\n",
       "      <th>Track Preview URL</th>\n",
       "      <th>Explicit</th>\n",
       "      <th>Popularity</th>\n",
       "      <th>ISRC</th>\n",
       "      <th>Added By</th>\n",
       "      <th>Added At</th>\n",
       "      <th>Artist Genres</th>\n",
       "      <th>Danceability</th>\n",
       "      <th>Energy</th>\n",
       "      <th>Key</th>\n",
       "      <th>Loudness</th>\n",
       "      <th>Mode</th>\n",
       "      <th>Speechiness</th>\n",
       "      <th>Acousticness</th>\n",
       "      <th>Instrumentalness</th>\n",
       "      <th>Liveness</th>\n",
       "      <th>Valence</th>\n",
       "      <th>Tempo</th>\n",
       "      <th>Time Signature</th>\n",
       "      <th>Album Genres</th>\n",
       "      <th>Label</th>\n",
       "      <th>Copyrights</th>\n",
       "    </tr>\n",
       "  </thead>\n",
       "  <tbody>\n",
       "    <tr>\n",
       "      <th>0</th>\n",
       "      <td>spotify:track:1XAZlnVtthcDZt2NI1Dtxo</td>\n",
       "      <td>Justified &amp; Ancient - Stand by the Jams</td>\n",
       "      <td>spotify:artist:6dYrdRlNZSKaVxYg5IrvCH</td>\n",
       "      <td>The KLF</td>\n",
       "      <td>spotify:album:4MC0ZjNtVP1nDD5lsLxFjc</td>\n",
       "      <td>Songs Collection</td>\n",
       "      <td>spotify:artist:6dYrdRlNZSKaVxYg5IrvCH</td>\n",
       "      <td>The KLF</td>\n",
       "      <td>1992-08-03</td>\n",
       "      <td>https://i.scdn.co/image/ab67616d0000b27355346b...</td>\n",
       "      <td>1</td>\n",
       "      <td>3</td>\n",
       "      <td>216270</td>\n",
       "      <td>NaN</td>\n",
       "      <td>False</td>\n",
       "      <td>0</td>\n",
       "      <td>QMARG1760056</td>\n",
       "      <td>spotify:user:bradnumber1</td>\n",
       "      <td>2020-03-05T09:20:39Z</td>\n",
       "      <td>acid house,ambient house,big beat,hip house</td>\n",
       "      <td>0.617</td>\n",
       "      <td>0.872</td>\n",
       "      <td>8.0</td>\n",
       "      <td>-12.305</td>\n",
       "      <td>1.0</td>\n",
       "      <td>0.0480</td>\n",
       "      <td>0.0158</td>\n",
       "      <td>0.112000</td>\n",
       "      <td>0.4080</td>\n",
       "      <td>0.504</td>\n",
       "      <td>111.458</td>\n",
       "      <td>4.0</td>\n",
       "      <td>NaN</td>\n",
       "      <td>Jams Communications</td>\n",
       "      <td>C 1992 Copyright Control, P 1992 Jams Communic...</td>\n",
       "    </tr>\n",
       "    <tr>\n",
       "      <th>1</th>\n",
       "      <td>spotify:track:6a8GbQIlV8HBUW3c6Uk9PH</td>\n",
       "      <td>I Know You Want Me (Calle Ocho)</td>\n",
       "      <td>spotify:artist:0TnOYISbd1XYRBk9myaseg</td>\n",
       "      <td>Pitbull</td>\n",
       "      <td>spotify:album:5xLAcbvbSAlRtPXnKkggXA</td>\n",
       "      <td>Pitbull Starring In Rebelution</td>\n",
       "      <td>spotify:artist:0TnOYISbd1XYRBk9myaseg</td>\n",
       "      <td>Pitbull</td>\n",
       "      <td>2009-10-23</td>\n",
       "      <td>https://i.scdn.co/image/ab67616d0000b27326d73a...</td>\n",
       "      <td>1</td>\n",
       "      <td>3</td>\n",
       "      <td>237120</td>\n",
       "      <td>https://p.scdn.co/mp3-preview/d6f8883fc955cb0e...</td>\n",
       "      <td>False</td>\n",
       "      <td>64</td>\n",
       "      <td>USJAY0900144</td>\n",
       "      <td>spotify:user:bradnumber1</td>\n",
       "      <td>2021-08-08T09:26:31Z</td>\n",
       "      <td>dance pop,miami hip hop,pop</td>\n",
       "      <td>0.825</td>\n",
       "      <td>0.743</td>\n",
       "      <td>2.0</td>\n",
       "      <td>-5.995</td>\n",
       "      <td>1.0</td>\n",
       "      <td>0.1490</td>\n",
       "      <td>0.0142</td>\n",
       "      <td>0.000021</td>\n",
       "      <td>0.2370</td>\n",
       "      <td>0.800</td>\n",
       "      <td>127.045</td>\n",
       "      <td>4.0</td>\n",
       "      <td>NaN</td>\n",
       "      <td>Mr.305/Polo Grounds Music/J Records</td>\n",
       "      <td>P (P) 2009 RCA/JIVE Label Group, a unit of Son...</td>\n",
       "    </tr>\n",
       "    <tr>\n",
       "      <th>2</th>\n",
       "      <td>spotify:track:70XtWbcVZcpaOddJftMcVi</td>\n",
       "      <td>From the Bottom of My Broken Heart</td>\n",
       "      <td>spotify:artist:26dSoYclwsYLMAKD3tpOr4</td>\n",
       "      <td>Britney Spears</td>\n",
       "      <td>spotify:album:3WNxdumkSMGMJRhEgK80qx</td>\n",
       "      <td>...Baby One More Time (Digital Deluxe Version)</td>\n",
       "      <td>spotify:artist:26dSoYclwsYLMAKD3tpOr4</td>\n",
       "      <td>Britney Spears</td>\n",
       "      <td>1999-01-12</td>\n",
       "      <td>https://i.scdn.co/image/ab67616d0000b2738e4986...</td>\n",
       "      <td>1</td>\n",
       "      <td>6</td>\n",
       "      <td>312533</td>\n",
       "      <td>https://p.scdn.co/mp3-preview/1de5faef947224dc...</td>\n",
       "      <td>False</td>\n",
       "      <td>56</td>\n",
       "      <td>USJI19910455</td>\n",
       "      <td>spotify:user:bradnumber1</td>\n",
       "      <td>2021-08-08T09:26:31Z</td>\n",
       "      <td>dance pop,pop</td>\n",
       "      <td>0.677</td>\n",
       "      <td>0.665</td>\n",
       "      <td>7.0</td>\n",
       "      <td>-5.171</td>\n",
       "      <td>1.0</td>\n",
       "      <td>0.0305</td>\n",
       "      <td>0.5600</td>\n",
       "      <td>0.000001</td>\n",
       "      <td>0.3380</td>\n",
       "      <td>0.706</td>\n",
       "      <td>74.981</td>\n",
       "      <td>4.0</td>\n",
       "      <td>NaN</td>\n",
       "      <td>Jive</td>\n",
       "      <td>P (P) 1999 Zomba Recording LLC</td>\n",
       "    </tr>\n",
       "    <tr>\n",
       "      <th>3</th>\n",
       "      <td>spotify:track:1NXUWyPJk5kO6DQJ5t7bDu</td>\n",
       "      <td>Apeman - 2014 Remastered Version</td>\n",
       "      <td>spotify:artist:1SQRv42e4PjEYfPhS0Tk9E</td>\n",
       "      <td>The Kinks</td>\n",
       "      <td>spotify:album:6lL6HugNEN4Vlc8sj0Zcse</td>\n",
       "      <td>Lola vs. Powerman and the Moneygoround, Pt. On...</td>\n",
       "      <td>spotify:artist:1SQRv42e4PjEYfPhS0Tk9E</td>\n",
       "      <td>The Kinks</td>\n",
       "      <td>2014-10-20</td>\n",
       "      <td>https://i.scdn.co/image/ab67616d0000b2731e7c53...</td>\n",
       "      <td>1</td>\n",
       "      <td>11</td>\n",
       "      <td>233400</td>\n",
       "      <td>https://p.scdn.co/mp3-preview/c4df3a832509cc55...</td>\n",
       "      <td>False</td>\n",
       "      <td>42</td>\n",
       "      <td>GB5KW1499822</td>\n",
       "      <td>spotify:user:bradnumber1</td>\n",
       "      <td>2021-08-08T09:26:31Z</td>\n",
       "      <td>album rock,art rock,british invasion,classic r...</td>\n",
       "      <td>0.683</td>\n",
       "      <td>0.728</td>\n",
       "      <td>9.0</td>\n",
       "      <td>-8.920</td>\n",
       "      <td>1.0</td>\n",
       "      <td>0.2590</td>\n",
       "      <td>0.5680</td>\n",
       "      <td>0.000051</td>\n",
       "      <td>0.0384</td>\n",
       "      <td>0.833</td>\n",
       "      <td>75.311</td>\n",
       "      <td>4.0</td>\n",
       "      <td>NaN</td>\n",
       "      <td>Sanctuary Records</td>\n",
       "      <td>C © 2014 Sanctuary Records Group Ltd., a BMG C...</td>\n",
       "    </tr>\n",
       "    <tr>\n",
       "      <th>4</th>\n",
       "      <td>spotify:track:72WZtWs6V7uu3aMgMmEkYe</td>\n",
       "      <td>You Can't Always Get What You Want</td>\n",
       "      <td>spotify:artist:22bE4uQ6baNwSHPVcDxLCe</td>\n",
       "      <td>The Rolling Stones</td>\n",
       "      <td>spotify:album:0c78nsgqX6VfniSNWIxwoD</td>\n",
       "      <td>Let It Bleed</td>\n",
       "      <td>spotify:artist:22bE4uQ6baNwSHPVcDxLCe</td>\n",
       "      <td>The Rolling Stones</td>\n",
       "      <td>1969-12-05</td>\n",
       "      <td>https://i.scdn.co/image/ab67616d0000b27373d927...</td>\n",
       "      <td>1</td>\n",
       "      <td>9</td>\n",
       "      <td>448720</td>\n",
       "      <td>NaN</td>\n",
       "      <td>False</td>\n",
       "      <td>0</td>\n",
       "      <td>USA176910100</td>\n",
       "      <td>spotify:user:bradnumber1</td>\n",
       "      <td>2021-08-08T09:26:31Z</td>\n",
       "      <td>album rock,british invasion,classic rock,rock</td>\n",
       "      <td>0.319</td>\n",
       "      <td>0.627</td>\n",
       "      <td>0.0</td>\n",
       "      <td>-9.611</td>\n",
       "      <td>1.0</td>\n",
       "      <td>0.0687</td>\n",
       "      <td>0.6750</td>\n",
       "      <td>0.000073</td>\n",
       "      <td>0.2890</td>\n",
       "      <td>0.497</td>\n",
       "      <td>85.818</td>\n",
       "      <td>4.0</td>\n",
       "      <td>NaN</td>\n",
       "      <td>Universal Music Group</td>\n",
       "      <td>C © 2002 ABKCO Music &amp; Records Inc., P ℗ 2002 ...</td>\n",
       "    </tr>\n",
       "  </tbody>\n",
       "</table>\n",
       "</div>"
      ],
      "text/plain": [
       "                              Track URI  \\\n",
       "0  spotify:track:1XAZlnVtthcDZt2NI1Dtxo   \n",
       "1  spotify:track:6a8GbQIlV8HBUW3c6Uk9PH   \n",
       "2  spotify:track:70XtWbcVZcpaOddJftMcVi   \n",
       "3  spotify:track:1NXUWyPJk5kO6DQJ5t7bDu   \n",
       "4  spotify:track:72WZtWs6V7uu3aMgMmEkYe   \n",
       "\n",
       "                                Track Name  \\\n",
       "0  Justified & Ancient - Stand by the Jams   \n",
       "1          I Know You Want Me (Calle Ocho)   \n",
       "2       From the Bottom of My Broken Heart   \n",
       "3         Apeman - 2014 Remastered Version   \n",
       "4       You Can't Always Get What You Want   \n",
       "\n",
       "                           Artist URI(s)      Artist Name(s)  \\\n",
       "0  spotify:artist:6dYrdRlNZSKaVxYg5IrvCH             The KLF   \n",
       "1  spotify:artist:0TnOYISbd1XYRBk9myaseg             Pitbull   \n",
       "2  spotify:artist:26dSoYclwsYLMAKD3tpOr4      Britney Spears   \n",
       "3  spotify:artist:1SQRv42e4PjEYfPhS0Tk9E           The Kinks   \n",
       "4  spotify:artist:22bE4uQ6baNwSHPVcDxLCe  The Rolling Stones   \n",
       "\n",
       "                              Album URI  \\\n",
       "0  spotify:album:4MC0ZjNtVP1nDD5lsLxFjc   \n",
       "1  spotify:album:5xLAcbvbSAlRtPXnKkggXA   \n",
       "2  spotify:album:3WNxdumkSMGMJRhEgK80qx   \n",
       "3  spotify:album:6lL6HugNEN4Vlc8sj0Zcse   \n",
       "4  spotify:album:0c78nsgqX6VfniSNWIxwoD   \n",
       "\n",
       "                                          Album Name  \\\n",
       "0                                   Songs Collection   \n",
       "1                     Pitbull Starring In Rebelution   \n",
       "2     ...Baby One More Time (Digital Deluxe Version)   \n",
       "3  Lola vs. Powerman and the Moneygoround, Pt. On...   \n",
       "4                                       Let It Bleed   \n",
       "\n",
       "                     Album Artist URI(s) Album Artist Name(s)  \\\n",
       "0  spotify:artist:6dYrdRlNZSKaVxYg5IrvCH              The KLF   \n",
       "1  spotify:artist:0TnOYISbd1XYRBk9myaseg              Pitbull   \n",
       "2  spotify:artist:26dSoYclwsYLMAKD3tpOr4       Britney Spears   \n",
       "3  spotify:artist:1SQRv42e4PjEYfPhS0Tk9E            The Kinks   \n",
       "4  spotify:artist:22bE4uQ6baNwSHPVcDxLCe   The Rolling Stones   \n",
       "\n",
       "  Album Release Date                                    Album Image URL  \\\n",
       "0         1992-08-03  https://i.scdn.co/image/ab67616d0000b27355346b...   \n",
       "1         2009-10-23  https://i.scdn.co/image/ab67616d0000b27326d73a...   \n",
       "2         1999-01-12  https://i.scdn.co/image/ab67616d0000b2738e4986...   \n",
       "3         2014-10-20  https://i.scdn.co/image/ab67616d0000b2731e7c53...   \n",
       "4         1969-12-05  https://i.scdn.co/image/ab67616d0000b27373d927...   \n",
       "\n",
       "   Disc Number  Track Number  Track Duration (ms)  \\\n",
       "0            1             3               216270   \n",
       "1            1             3               237120   \n",
       "2            1             6               312533   \n",
       "3            1            11               233400   \n",
       "4            1             9               448720   \n",
       "\n",
       "                                   Track Preview URL  Explicit  Popularity  \\\n",
       "0                                                NaN     False           0   \n",
       "1  https://p.scdn.co/mp3-preview/d6f8883fc955cb0e...     False          64   \n",
       "2  https://p.scdn.co/mp3-preview/1de5faef947224dc...     False          56   \n",
       "3  https://p.scdn.co/mp3-preview/c4df3a832509cc55...     False          42   \n",
       "4                                                NaN     False           0   \n",
       "\n",
       "           ISRC                  Added By              Added At  \\\n",
       "0  QMARG1760056  spotify:user:bradnumber1  2020-03-05T09:20:39Z   \n",
       "1  USJAY0900144  spotify:user:bradnumber1  2021-08-08T09:26:31Z   \n",
       "2  USJI19910455  spotify:user:bradnumber1  2021-08-08T09:26:31Z   \n",
       "3  GB5KW1499822  spotify:user:bradnumber1  2021-08-08T09:26:31Z   \n",
       "4  USA176910100  spotify:user:bradnumber1  2021-08-08T09:26:31Z   \n",
       "\n",
       "                                       Artist Genres  Danceability  Energy  \\\n",
       "0        acid house,ambient house,big beat,hip house         0.617   0.872   \n",
       "1                        dance pop,miami hip hop,pop         0.825   0.743   \n",
       "2                                      dance pop,pop         0.677   0.665   \n",
       "3  album rock,art rock,british invasion,classic r...         0.683   0.728   \n",
       "4      album rock,british invasion,classic rock,rock         0.319   0.627   \n",
       "\n",
       "   Key  Loudness  Mode  Speechiness  Acousticness  Instrumentalness  Liveness  \\\n",
       "0  8.0   -12.305   1.0       0.0480        0.0158          0.112000    0.4080   \n",
       "1  2.0    -5.995   1.0       0.1490        0.0142          0.000021    0.2370   \n",
       "2  7.0    -5.171   1.0       0.0305        0.5600          0.000001    0.3380   \n",
       "3  9.0    -8.920   1.0       0.2590        0.5680          0.000051    0.0384   \n",
       "4  0.0    -9.611   1.0       0.0687        0.6750          0.000073    0.2890   \n",
       "\n",
       "   Valence    Tempo  Time Signature  Album Genres  \\\n",
       "0    0.504  111.458             4.0           NaN   \n",
       "1    0.800  127.045             4.0           NaN   \n",
       "2    0.706   74.981             4.0           NaN   \n",
       "3    0.833   75.311             4.0           NaN   \n",
       "4    0.497   85.818             4.0           NaN   \n",
       "\n",
       "                                 Label  \\\n",
       "0                  Jams Communications   \n",
       "1  Mr.305/Polo Grounds Music/J Records   \n",
       "2                                 Jive   \n",
       "3                    Sanctuary Records   \n",
       "4                Universal Music Group   \n",
       "\n",
       "                                          Copyrights  \n",
       "0  C 1992 Copyright Control, P 1992 Jams Communic...  \n",
       "1  P (P) 2009 RCA/JIVE Label Group, a unit of Son...  \n",
       "2                     P (P) 1999 Zomba Recording LLC  \n",
       "3  C © 2014 Sanctuary Records Group Ltd., a BMG C...  \n",
       "4  C © 2002 ABKCO Music & Records Inc., P ℗ 2002 ...  "
      ]
     },
     "execution_count": 308,
     "metadata": {},
     "output_type": "execute_result"
    }
   ],
   "source": [
    "data = readData('top_10000_1960-now.csv')\n",
    "data.head()"
   ]
  },
  {
   "cell_type": "code",
   "execution_count": 309,
   "metadata": {},
   "outputs": [
    {
     "data": {
      "text/html": [
       "<div>\n",
       "<style scoped>\n",
       "    .dataframe tbody tr th:only-of-type {\n",
       "        vertical-align: middle;\n",
       "    }\n",
       "\n",
       "    .dataframe tbody tr th {\n",
       "        vertical-align: top;\n",
       "    }\n",
       "\n",
       "    .dataframe thead th {\n",
       "        text-align: right;\n",
       "    }\n",
       "</style>\n",
       "<table border=\"1\" class=\"dataframe\">\n",
       "  <thead>\n",
       "    <tr style=\"text-align: right;\">\n",
       "      <th></th>\n",
       "      <th>Artist Name(s)</th>\n",
       "      <th>Album Name</th>\n",
       "      <th>Album Release Date</th>\n",
       "      <th>Track Duration (ms)</th>\n",
       "      <th>Explicit</th>\n",
       "      <th>Popularity</th>\n",
       "      <th>Artist Genres</th>\n",
       "      <th>Danceability</th>\n",
       "      <th>Energy</th>\n",
       "      <th>Key</th>\n",
       "      <th>Loudness</th>\n",
       "      <th>Mode</th>\n",
       "      <th>Speechiness</th>\n",
       "      <th>Acousticness</th>\n",
       "      <th>Instrumentalness</th>\n",
       "      <th>Liveness</th>\n",
       "      <th>Valence</th>\n",
       "      <th>Tempo</th>\n",
       "      <th>Time Signature</th>\n",
       "      <th>Label</th>\n",
       "    </tr>\n",
       "  </thead>\n",
       "  <tbody>\n",
       "    <tr>\n",
       "      <th>0</th>\n",
       "      <td>The KLF</td>\n",
       "      <td>Songs Collection</td>\n",
       "      <td>1992-08-03</td>\n",
       "      <td>216270</td>\n",
       "      <td>False</td>\n",
       "      <td>0</td>\n",
       "      <td>acid house,ambient house,big beat,hip house</td>\n",
       "      <td>0.617</td>\n",
       "      <td>0.872</td>\n",
       "      <td>8.0</td>\n",
       "      <td>-12.305</td>\n",
       "      <td>1.0</td>\n",
       "      <td>0.0480</td>\n",
       "      <td>0.0158</td>\n",
       "      <td>0.112000</td>\n",
       "      <td>0.4080</td>\n",
       "      <td>0.504</td>\n",
       "      <td>111.458</td>\n",
       "      <td>4.0</td>\n",
       "      <td>Jams Communications</td>\n",
       "    </tr>\n",
       "    <tr>\n",
       "      <th>1</th>\n",
       "      <td>Pitbull</td>\n",
       "      <td>Pitbull Starring In Rebelution</td>\n",
       "      <td>2009-10-23</td>\n",
       "      <td>237120</td>\n",
       "      <td>False</td>\n",
       "      <td>64</td>\n",
       "      <td>dance pop,miami hip hop,pop</td>\n",
       "      <td>0.825</td>\n",
       "      <td>0.743</td>\n",
       "      <td>2.0</td>\n",
       "      <td>-5.995</td>\n",
       "      <td>1.0</td>\n",
       "      <td>0.1490</td>\n",
       "      <td>0.0142</td>\n",
       "      <td>0.000021</td>\n",
       "      <td>0.2370</td>\n",
       "      <td>0.800</td>\n",
       "      <td>127.045</td>\n",
       "      <td>4.0</td>\n",
       "      <td>Mr.305/Polo Grounds Music/J Records</td>\n",
       "    </tr>\n",
       "    <tr>\n",
       "      <th>2</th>\n",
       "      <td>Britney Spears</td>\n",
       "      <td>...Baby One More Time (Digital Deluxe Version)</td>\n",
       "      <td>1999-01-12</td>\n",
       "      <td>312533</td>\n",
       "      <td>False</td>\n",
       "      <td>56</td>\n",
       "      <td>dance pop,pop</td>\n",
       "      <td>0.677</td>\n",
       "      <td>0.665</td>\n",
       "      <td>7.0</td>\n",
       "      <td>-5.171</td>\n",
       "      <td>1.0</td>\n",
       "      <td>0.0305</td>\n",
       "      <td>0.5600</td>\n",
       "      <td>0.000001</td>\n",
       "      <td>0.3380</td>\n",
       "      <td>0.706</td>\n",
       "      <td>74.981</td>\n",
       "      <td>4.0</td>\n",
       "      <td>Jive</td>\n",
       "    </tr>\n",
       "    <tr>\n",
       "      <th>3</th>\n",
       "      <td>The Kinks</td>\n",
       "      <td>Lola vs. Powerman and the Moneygoround, Pt. On...</td>\n",
       "      <td>2014-10-20</td>\n",
       "      <td>233400</td>\n",
       "      <td>False</td>\n",
       "      <td>42</td>\n",
       "      <td>album rock,art rock,british invasion,classic r...</td>\n",
       "      <td>0.683</td>\n",
       "      <td>0.728</td>\n",
       "      <td>9.0</td>\n",
       "      <td>-8.920</td>\n",
       "      <td>1.0</td>\n",
       "      <td>0.2590</td>\n",
       "      <td>0.5680</td>\n",
       "      <td>0.000051</td>\n",
       "      <td>0.0384</td>\n",
       "      <td>0.833</td>\n",
       "      <td>75.311</td>\n",
       "      <td>4.0</td>\n",
       "      <td>Sanctuary Records</td>\n",
       "    </tr>\n",
       "    <tr>\n",
       "      <th>4</th>\n",
       "      <td>The Rolling Stones</td>\n",
       "      <td>Let It Bleed</td>\n",
       "      <td>1969-12-05</td>\n",
       "      <td>448720</td>\n",
       "      <td>False</td>\n",
       "      <td>0</td>\n",
       "      <td>album rock,british invasion,classic rock,rock</td>\n",
       "      <td>0.319</td>\n",
       "      <td>0.627</td>\n",
       "      <td>0.0</td>\n",
       "      <td>-9.611</td>\n",
       "      <td>1.0</td>\n",
       "      <td>0.0687</td>\n",
       "      <td>0.6750</td>\n",
       "      <td>0.000073</td>\n",
       "      <td>0.2890</td>\n",
       "      <td>0.497</td>\n",
       "      <td>85.818</td>\n",
       "      <td>4.0</td>\n",
       "      <td>Universal Music Group</td>\n",
       "    </tr>\n",
       "  </tbody>\n",
       "</table>\n",
       "</div>"
      ],
      "text/plain": [
       "       Artist Name(s)                                         Album Name  \\\n",
       "0             The KLF                                   Songs Collection   \n",
       "1             Pitbull                     Pitbull Starring In Rebelution   \n",
       "2      Britney Spears     ...Baby One More Time (Digital Deluxe Version)   \n",
       "3           The Kinks  Lola vs. Powerman and the Moneygoround, Pt. On...   \n",
       "4  The Rolling Stones                                       Let It Bleed   \n",
       "\n",
       "  Album Release Date  Track Duration (ms)  Explicit  Popularity  \\\n",
       "0         1992-08-03               216270     False           0   \n",
       "1         2009-10-23               237120     False          64   \n",
       "2         1999-01-12               312533     False          56   \n",
       "3         2014-10-20               233400     False          42   \n",
       "4         1969-12-05               448720     False           0   \n",
       "\n",
       "                                       Artist Genres  Danceability  Energy  \\\n",
       "0        acid house,ambient house,big beat,hip house         0.617   0.872   \n",
       "1                        dance pop,miami hip hop,pop         0.825   0.743   \n",
       "2                                      dance pop,pop         0.677   0.665   \n",
       "3  album rock,art rock,british invasion,classic r...         0.683   0.728   \n",
       "4      album rock,british invasion,classic rock,rock         0.319   0.627   \n",
       "\n",
       "   Key  Loudness  Mode  Speechiness  Acousticness  Instrumentalness  Liveness  \\\n",
       "0  8.0   -12.305   1.0       0.0480        0.0158          0.112000    0.4080   \n",
       "1  2.0    -5.995   1.0       0.1490        0.0142          0.000021    0.2370   \n",
       "2  7.0    -5.171   1.0       0.0305        0.5600          0.000001    0.3380   \n",
       "3  9.0    -8.920   1.0       0.2590        0.5680          0.000051    0.0384   \n",
       "4  0.0    -9.611   1.0       0.0687        0.6750          0.000073    0.2890   \n",
       "\n",
       "   Valence    Tempo  Time Signature                                Label  \n",
       "0    0.504  111.458             4.0                  Jams Communications  \n",
       "1    0.800  127.045             4.0  Mr.305/Polo Grounds Music/J Records  \n",
       "2    0.706   74.981             4.0                                 Jive  \n",
       "3    0.833   75.311             4.0                    Sanctuary Records  \n",
       "4    0.497   85.818             4.0                Universal Music Group  "
      ]
     },
     "execution_count": 309,
     "metadata": {},
     "output_type": "execute_result"
    }
   ],
   "source": [
    "dataset = data.drop(columns=['Track URI', 'Track Name', 'Artist URI(s)', 'Album URI', 'Album Artist URI(s)', 'Album Image URL', 'Track Preview URL', 'ISRC', 'Copyrights', 'Added By', 'Album Genres', 'Added At', 'Disc Number', 'Track Number', 'Album Artist Name(s)'])\n",
    "dataset.head()"
   ]
  },
  {
   "cell_type": "code",
   "execution_count": 310,
   "metadata": {},
   "outputs": [
    {
     "data": {
      "text/html": [
       "<div>\n",
       "<style scoped>\n",
       "    .dataframe tbody tr th:only-of-type {\n",
       "        vertical-align: middle;\n",
       "    }\n",
       "\n",
       "    .dataframe tbody tr th {\n",
       "        vertical-align: top;\n",
       "    }\n",
       "\n",
       "    .dataframe thead th {\n",
       "        text-align: right;\n",
       "    }\n",
       "</style>\n",
       "<table border=\"1\" class=\"dataframe\">\n",
       "  <thead>\n",
       "    <tr style=\"text-align: right;\">\n",
       "      <th></th>\n",
       "      <th>Track Duration (ms)</th>\n",
       "      <th>Popularity</th>\n",
       "      <th>Danceability</th>\n",
       "      <th>Energy</th>\n",
       "      <th>Key</th>\n",
       "      <th>Loudness</th>\n",
       "      <th>Mode</th>\n",
       "      <th>Speechiness</th>\n",
       "      <th>Acousticness</th>\n",
       "      <th>Instrumentalness</th>\n",
       "      <th>Liveness</th>\n",
       "      <th>Valence</th>\n",
       "      <th>Tempo</th>\n",
       "      <th>Time Signature</th>\n",
       "    </tr>\n",
       "  </thead>\n",
       "  <tbody>\n",
       "    <tr>\n",
       "      <th>count</th>\n",
       "      <td>9.999000e+03</td>\n",
       "      <td>9999.000000</td>\n",
       "      <td>9997.000000</td>\n",
       "      <td>9997.000000</td>\n",
       "      <td>9997.000000</td>\n",
       "      <td>9997.000000</td>\n",
       "      <td>9997.000000</td>\n",
       "      <td>9997.000000</td>\n",
       "      <td>9997.000000</td>\n",
       "      <td>9997.000000</td>\n",
       "      <td>9997.000000</td>\n",
       "      <td>9997.000000</td>\n",
       "      <td>9997.000000</td>\n",
       "      <td>9997.000000</td>\n",
       "    </tr>\n",
       "    <tr>\n",
       "      <th>mean</th>\n",
       "      <td>2.248150e+05</td>\n",
       "      <td>37.624662</td>\n",
       "      <td>0.607925</td>\n",
       "      <td>0.683281</td>\n",
       "      <td>5.167750</td>\n",
       "      <td>-7.269217</td>\n",
       "      <td>0.698410</td>\n",
       "      <td>0.065138</td>\n",
       "      <td>0.208589</td>\n",
       "      <td>0.029331</td>\n",
       "      <td>0.185777</td>\n",
       "      <td>0.585459</td>\n",
       "      <td>121.496650</td>\n",
       "      <td>3.960488</td>\n",
       "    </tr>\n",
       "    <tr>\n",
       "      <th>std</th>\n",
       "      <td>5.410012e+04</td>\n",
       "      <td>29.460808</td>\n",
       "      <td>0.145869</td>\n",
       "      <td>0.191131</td>\n",
       "      <td>3.578392</td>\n",
       "      <td>3.281731</td>\n",
       "      <td>0.458971</td>\n",
       "      <td>0.061324</td>\n",
       "      <td>0.248842</td>\n",
       "      <td>0.123576</td>\n",
       "      <td>0.149194</td>\n",
       "      <td>0.239105</td>\n",
       "      <td>26.260686</td>\n",
       "      <td>0.250927</td>\n",
       "    </tr>\n",
       "    <tr>\n",
       "      <th>min</th>\n",
       "      <td>0.000000e+00</td>\n",
       "      <td>0.000000</td>\n",
       "      <td>0.000000</td>\n",
       "      <td>0.000020</td>\n",
       "      <td>0.000000</td>\n",
       "      <td>-29.368000</td>\n",
       "      <td>0.000000</td>\n",
       "      <td>0.000000</td>\n",
       "      <td>0.000003</td>\n",
       "      <td>0.000000</td>\n",
       "      <td>0.012000</td>\n",
       "      <td>0.000000</td>\n",
       "      <td>0.000000</td>\n",
       "      <td>0.000000</td>\n",
       "    </tr>\n",
       "    <tr>\n",
       "      <th>25%</th>\n",
       "      <td>1.925795e+05</td>\n",
       "      <td>0.000000</td>\n",
       "      <td>0.515000</td>\n",
       "      <td>0.560000</td>\n",
       "      <td>2.000000</td>\n",
       "      <td>-9.070000</td>\n",
       "      <td>0.000000</td>\n",
       "      <td>0.033100</td>\n",
       "      <td>0.018400</td>\n",
       "      <td>0.000000</td>\n",
       "      <td>0.089200</td>\n",
       "      <td>0.398000</td>\n",
       "      <td>102.642000</td>\n",
       "      <td>4.000000</td>\n",
       "    </tr>\n",
       "    <tr>\n",
       "      <th>50%</th>\n",
       "      <td>2.199060e+05</td>\n",
       "      <td>42.000000</td>\n",
       "      <td>0.617000</td>\n",
       "      <td>0.712000</td>\n",
       "      <td>5.000000</td>\n",
       "      <td>-6.518000</td>\n",
       "      <td>1.000000</td>\n",
       "      <td>0.042900</td>\n",
       "      <td>0.095600</td>\n",
       "      <td>0.000006</td>\n",
       "      <td>0.128000</td>\n",
       "      <td>0.598000</td>\n",
       "      <td>120.653000</td>\n",
       "      <td>4.000000</td>\n",
       "    </tr>\n",
       "    <tr>\n",
       "      <th>75%</th>\n",
       "      <td>2.502600e+05</td>\n",
       "      <td>64.000000</td>\n",
       "      <td>0.710000</td>\n",
       "      <td>0.835000</td>\n",
       "      <td>8.000000</td>\n",
       "      <td>-4.887000</td>\n",
       "      <td>1.000000</td>\n",
       "      <td>0.067500</td>\n",
       "      <td>0.318000</td>\n",
       "      <td>0.000561</td>\n",
       "      <td>0.245000</td>\n",
       "      <td>0.783000</td>\n",
       "      <td>134.328000</td>\n",
       "      <td>4.000000</td>\n",
       "    </tr>\n",
       "    <tr>\n",
       "      <th>max</th>\n",
       "      <td>1.561133e+06</td>\n",
       "      <td>98.000000</td>\n",
       "      <td>0.988000</td>\n",
       "      <td>0.997000</td>\n",
       "      <td>11.000000</td>\n",
       "      <td>2.769000</td>\n",
       "      <td>1.000000</td>\n",
       "      <td>0.711000</td>\n",
       "      <td>0.991000</td>\n",
       "      <td>0.985000</td>\n",
       "      <td>0.989000</td>\n",
       "      <td>0.995000</td>\n",
       "      <td>217.913000</td>\n",
       "      <td>5.000000</td>\n",
       "    </tr>\n",
       "  </tbody>\n",
       "</table>\n",
       "</div>"
      ],
      "text/plain": [
       "       Track Duration (ms)   Popularity  Danceability       Energy  \\\n",
       "count         9.999000e+03  9999.000000   9997.000000  9997.000000   \n",
       "mean          2.248150e+05    37.624662      0.607925     0.683281   \n",
       "std           5.410012e+04    29.460808      0.145869     0.191131   \n",
       "min           0.000000e+00     0.000000      0.000000     0.000020   \n",
       "25%           1.925795e+05     0.000000      0.515000     0.560000   \n",
       "50%           2.199060e+05    42.000000      0.617000     0.712000   \n",
       "75%           2.502600e+05    64.000000      0.710000     0.835000   \n",
       "max           1.561133e+06    98.000000      0.988000     0.997000   \n",
       "\n",
       "               Key     Loudness         Mode  Speechiness  Acousticness  \\\n",
       "count  9997.000000  9997.000000  9997.000000  9997.000000   9997.000000   \n",
       "mean      5.167750    -7.269217     0.698410     0.065138      0.208589   \n",
       "std       3.578392     3.281731     0.458971     0.061324      0.248842   \n",
       "min       0.000000   -29.368000     0.000000     0.000000      0.000003   \n",
       "25%       2.000000    -9.070000     0.000000     0.033100      0.018400   \n",
       "50%       5.000000    -6.518000     1.000000     0.042900      0.095600   \n",
       "75%       8.000000    -4.887000     1.000000     0.067500      0.318000   \n",
       "max      11.000000     2.769000     1.000000     0.711000      0.991000   \n",
       "\n",
       "       Instrumentalness     Liveness      Valence        Tempo  Time Signature  \n",
       "count       9997.000000  9997.000000  9997.000000  9997.000000     9997.000000  \n",
       "mean           0.029331     0.185777     0.585459   121.496650        3.960488  \n",
       "std            0.123576     0.149194     0.239105    26.260686        0.250927  \n",
       "min            0.000000     0.012000     0.000000     0.000000        0.000000  \n",
       "25%            0.000000     0.089200     0.398000   102.642000        4.000000  \n",
       "50%            0.000006     0.128000     0.598000   120.653000        4.000000  \n",
       "75%            0.000561     0.245000     0.783000   134.328000        4.000000  \n",
       "max            0.985000     0.989000     0.995000   217.913000        5.000000  "
      ]
     },
     "execution_count": 310,
     "metadata": {},
     "output_type": "execute_result"
    }
   ],
   "source": [
    "dataset.describe()"
   ]
  },
  {
   "cell_type": "code",
   "execution_count": 311,
   "metadata": {},
   "outputs": [
    {
     "name": "stdout",
     "output_type": "stream",
     "text": [
      "<class 'pandas.core.frame.DataFrame'>\n",
      "Index: 9446 entries, 0 to 9998\n",
      "Data columns (total 20 columns):\n",
      " #   Column               Non-Null Count  Dtype  \n",
      "---  ------               --------------  -----  \n",
      " 0   Artist Name(s)       9446 non-null   object \n",
      " 1   Album Name           9446 non-null   object \n",
      " 2   Album Release Date   9446 non-null   object \n",
      " 3   Track Duration (ms)  9446 non-null   int64  \n",
      " 4   Explicit             9446 non-null   bool   \n",
      " 5   Popularity           9446 non-null   int64  \n",
      " 6   Artist Genres        9446 non-null   object \n",
      " 7   Danceability         9446 non-null   float64\n",
      " 8   Energy               9446 non-null   float64\n",
      " 9   Key                  9446 non-null   float64\n",
      " 10  Loudness             9446 non-null   float64\n",
      " 11  Mode                 9446 non-null   float64\n",
      " 12  Speechiness          9446 non-null   float64\n",
      " 13  Acousticness         9446 non-null   float64\n",
      " 14  Instrumentalness     9446 non-null   float64\n",
      " 15  Liveness             9446 non-null   float64\n",
      " 16  Valence              9446 non-null   float64\n",
      " 17  Tempo                9446 non-null   float64\n",
      " 18  Time Signature       9446 non-null   float64\n",
      " 19  Label                9446 non-null   object \n",
      "dtypes: bool(1), float64(12), int64(2), object(5)\n",
      "memory usage: 1.5+ MB\n"
     ]
    }
   ],
   "source": [
    "dataset=dataset.dropna()\n",
    "dataset.info()"
   ]
  },
  {
   "cell_type": "code",
   "execution_count": 312,
   "metadata": {},
   "outputs": [
    {
     "data": {
      "text/html": [
       "<div>\n",
       "<style scoped>\n",
       "    .dataframe tbody tr th:only-of-type {\n",
       "        vertical-align: middle;\n",
       "    }\n",
       "\n",
       "    .dataframe tbody tr th {\n",
       "        vertical-align: top;\n",
       "    }\n",
       "\n",
       "    .dataframe thead th {\n",
       "        text-align: right;\n",
       "    }\n",
       "</style>\n",
       "<table border=\"1\" class=\"dataframe\">\n",
       "  <thead>\n",
       "    <tr style=\"text-align: right;\">\n",
       "      <th></th>\n",
       "      <th>Track Duration (ms)</th>\n",
       "      <th>Popularity</th>\n",
       "      <th>Danceability</th>\n",
       "      <th>Energy</th>\n",
       "      <th>Key</th>\n",
       "      <th>Loudness</th>\n",
       "      <th>Mode</th>\n",
       "      <th>Speechiness</th>\n",
       "      <th>Acousticness</th>\n",
       "      <th>Instrumentalness</th>\n",
       "      <th>Liveness</th>\n",
       "      <th>Valence</th>\n",
       "      <th>Tempo</th>\n",
       "      <th>Time Signature</th>\n",
       "    </tr>\n",
       "  </thead>\n",
       "  <tbody>\n",
       "    <tr>\n",
       "      <th>0</th>\n",
       "      <td>216270</td>\n",
       "      <td>0</td>\n",
       "      <td>0.617</td>\n",
       "      <td>0.872</td>\n",
       "      <td>8.0</td>\n",
       "      <td>-12.305</td>\n",
       "      <td>1.0</td>\n",
       "      <td>0.0480</td>\n",
       "      <td>0.015800</td>\n",
       "      <td>0.112000</td>\n",
       "      <td>0.4080</td>\n",
       "      <td>0.504</td>\n",
       "      <td>111.458</td>\n",
       "      <td>4.0</td>\n",
       "    </tr>\n",
       "    <tr>\n",
       "      <th>1</th>\n",
       "      <td>237120</td>\n",
       "      <td>64</td>\n",
       "      <td>0.825</td>\n",
       "      <td>0.743</td>\n",
       "      <td>2.0</td>\n",
       "      <td>-5.995</td>\n",
       "      <td>1.0</td>\n",
       "      <td>0.1490</td>\n",
       "      <td>0.014200</td>\n",
       "      <td>0.000021</td>\n",
       "      <td>0.2370</td>\n",
       "      <td>0.800</td>\n",
       "      <td>127.045</td>\n",
       "      <td>4.0</td>\n",
       "    </tr>\n",
       "    <tr>\n",
       "      <th>2</th>\n",
       "      <td>312533</td>\n",
       "      <td>56</td>\n",
       "      <td>0.677</td>\n",
       "      <td>0.665</td>\n",
       "      <td>7.0</td>\n",
       "      <td>-5.171</td>\n",
       "      <td>1.0</td>\n",
       "      <td>0.0305</td>\n",
       "      <td>0.560000</td>\n",
       "      <td>0.000001</td>\n",
       "      <td>0.3380</td>\n",
       "      <td>0.706</td>\n",
       "      <td>74.981</td>\n",
       "      <td>4.0</td>\n",
       "    </tr>\n",
       "    <tr>\n",
       "      <th>3</th>\n",
       "      <td>233400</td>\n",
       "      <td>42</td>\n",
       "      <td>0.683</td>\n",
       "      <td>0.728</td>\n",
       "      <td>9.0</td>\n",
       "      <td>-8.920</td>\n",
       "      <td>1.0</td>\n",
       "      <td>0.2590</td>\n",
       "      <td>0.568000</td>\n",
       "      <td>0.000051</td>\n",
       "      <td>0.0384</td>\n",
       "      <td>0.833</td>\n",
       "      <td>75.311</td>\n",
       "      <td>4.0</td>\n",
       "    </tr>\n",
       "    <tr>\n",
       "      <th>4</th>\n",
       "      <td>448720</td>\n",
       "      <td>0</td>\n",
       "      <td>0.319</td>\n",
       "      <td>0.627</td>\n",
       "      <td>0.0</td>\n",
       "      <td>-9.611</td>\n",
       "      <td>1.0</td>\n",
       "      <td>0.0687</td>\n",
       "      <td>0.675000</td>\n",
       "      <td>0.000073</td>\n",
       "      <td>0.2890</td>\n",
       "      <td>0.497</td>\n",
       "      <td>85.818</td>\n",
       "      <td>4.0</td>\n",
       "    </tr>\n",
       "    <tr>\n",
       "      <th>...</th>\n",
       "      <td>...</td>\n",
       "      <td>...</td>\n",
       "      <td>...</td>\n",
       "      <td>...</td>\n",
       "      <td>...</td>\n",
       "      <td>...</td>\n",
       "      <td>...</td>\n",
       "      <td>...</td>\n",
       "      <td>...</td>\n",
       "      <td>...</td>\n",
       "      <td>...</td>\n",
       "      <td>...</td>\n",
       "      <td>...</td>\n",
       "      <td>...</td>\n",
       "    </tr>\n",
       "    <tr>\n",
       "      <th>9994</th>\n",
       "      <td>165800</td>\n",
       "      <td>79</td>\n",
       "      <td>0.623</td>\n",
       "      <td>0.727</td>\n",
       "      <td>11.0</td>\n",
       "      <td>-5.570</td>\n",
       "      <td>0.0</td>\n",
       "      <td>0.0562</td>\n",
       "      <td>0.184000</td>\n",
       "      <td>0.000020</td>\n",
       "      <td>0.3090</td>\n",
       "      <td>0.400</td>\n",
       "      <td>125.975</td>\n",
       "      <td>4.0</td>\n",
       "    </tr>\n",
       "    <tr>\n",
       "      <th>9995</th>\n",
       "      <td>176640</td>\n",
       "      <td>17</td>\n",
       "      <td>0.720</td>\n",
       "      <td>0.841</td>\n",
       "      <td>9.0</td>\n",
       "      <td>-6.373</td>\n",
       "      <td>1.0</td>\n",
       "      <td>0.0340</td>\n",
       "      <td>0.000354</td>\n",
       "      <td>0.011200</td>\n",
       "      <td>0.3380</td>\n",
       "      <td>0.767</td>\n",
       "      <td>130.978</td>\n",
       "      <td>4.0</td>\n",
       "    </tr>\n",
       "    <tr>\n",
       "      <th>9996</th>\n",
       "      <td>227619</td>\n",
       "      <td>62</td>\n",
       "      <td>0.719</td>\n",
       "      <td>0.806</td>\n",
       "      <td>9.0</td>\n",
       "      <td>-6.802</td>\n",
       "      <td>0.0</td>\n",
       "      <td>0.0389</td>\n",
       "      <td>0.000132</td>\n",
       "      <td>0.088900</td>\n",
       "      <td>0.3610</td>\n",
       "      <td>0.626</td>\n",
       "      <td>123.037</td>\n",
       "      <td>4.0</td>\n",
       "    </tr>\n",
       "    <tr>\n",
       "      <th>9997</th>\n",
       "      <td>153442</td>\n",
       "      <td>87</td>\n",
       "      <td>0.534</td>\n",
       "      <td>0.855</td>\n",
       "      <td>1.0</td>\n",
       "      <td>-4.923</td>\n",
       "      <td>0.0</td>\n",
       "      <td>0.1830</td>\n",
       "      <td>0.060700</td>\n",
       "      <td>0.000263</td>\n",
       "      <td>0.3460</td>\n",
       "      <td>0.420</td>\n",
       "      <td>122.060</td>\n",
       "      <td>4.0</td>\n",
       "    </tr>\n",
       "    <tr>\n",
       "      <th>9998</th>\n",
       "      <td>166266</td>\n",
       "      <td>69</td>\n",
       "      <td>0.744</td>\n",
       "      <td>0.620</td>\n",
       "      <td>5.0</td>\n",
       "      <td>-7.930</td>\n",
       "      <td>1.0</td>\n",
       "      <td>0.2460</td>\n",
       "      <td>0.214000</td>\n",
       "      <td>0.001160</td>\n",
       "      <td>0.1030</td>\n",
       "      <td>0.711</td>\n",
       "      <td>128.103</td>\n",
       "      <td>4.0</td>\n",
       "    </tr>\n",
       "  </tbody>\n",
       "</table>\n",
       "<p>9446 rows × 14 columns</p>\n",
       "</div>"
      ],
      "text/plain": [
       "      Track Duration (ms)  Popularity  Danceability  Energy   Key  Loudness  \\\n",
       "0                  216270           0         0.617   0.872   8.0   -12.305   \n",
       "1                  237120          64         0.825   0.743   2.0    -5.995   \n",
       "2                  312533          56         0.677   0.665   7.0    -5.171   \n",
       "3                  233400          42         0.683   0.728   9.0    -8.920   \n",
       "4                  448720           0         0.319   0.627   0.0    -9.611   \n",
       "...                   ...         ...           ...     ...   ...       ...   \n",
       "9994               165800          79         0.623   0.727  11.0    -5.570   \n",
       "9995               176640          17         0.720   0.841   9.0    -6.373   \n",
       "9996               227619          62         0.719   0.806   9.0    -6.802   \n",
       "9997               153442          87         0.534   0.855   1.0    -4.923   \n",
       "9998               166266          69         0.744   0.620   5.0    -7.930   \n",
       "\n",
       "      Mode  Speechiness  Acousticness  Instrumentalness  Liveness  Valence  \\\n",
       "0      1.0       0.0480      0.015800          0.112000    0.4080    0.504   \n",
       "1      1.0       0.1490      0.014200          0.000021    0.2370    0.800   \n",
       "2      1.0       0.0305      0.560000          0.000001    0.3380    0.706   \n",
       "3      1.0       0.2590      0.568000          0.000051    0.0384    0.833   \n",
       "4      1.0       0.0687      0.675000          0.000073    0.2890    0.497   \n",
       "...    ...          ...           ...               ...       ...      ...   \n",
       "9994   0.0       0.0562      0.184000          0.000020    0.3090    0.400   \n",
       "9995   1.0       0.0340      0.000354          0.011200    0.3380    0.767   \n",
       "9996   0.0       0.0389      0.000132          0.088900    0.3610    0.626   \n",
       "9997   0.0       0.1830      0.060700          0.000263    0.3460    0.420   \n",
       "9998   1.0       0.2460      0.214000          0.001160    0.1030    0.711   \n",
       "\n",
       "        Tempo  Time Signature  \n",
       "0     111.458             4.0  \n",
       "1     127.045             4.0  \n",
       "2      74.981             4.0  \n",
       "3      75.311             4.0  \n",
       "4      85.818             4.0  \n",
       "...       ...             ...  \n",
       "9994  125.975             4.0  \n",
       "9995  130.978             4.0  \n",
       "9996  123.037             4.0  \n",
       "9997  122.060             4.0  \n",
       "9998  128.103             4.0  \n",
       "\n",
       "[9446 rows x 14 columns]"
      ]
     },
     "execution_count": 312,
     "metadata": {},
     "output_type": "execute_result"
    }
   ],
   "source": [
    "numericData = dataset.select_dtypes(include=['int', 'float'])\n",
    "numericData"
   ]
  },
  {
   "cell_type": "code",
   "execution_count": null,
   "metadata": {},
   "outputs": [],
   "source": []
  },
  {
   "cell_type": "code",
   "execution_count": 313,
   "metadata": {},
   "outputs": [
    {
     "data": {
      "text/plain": [
       "<Axes: >"
      ]
     },
     "execution_count": 313,
     "metadata": {},
     "output_type": "execute_result"
    },
    {
     "data": {
      "image/png": "[encoded data removed]",
      "text/plain": [
       "<Figure size 1440x720 with 2 Axes>"
      ]
     },
     "metadata": {
      "needs_background": "light"
     },
     "output_type": "display_data"
    }
   ],
   "source": [
    "corr_matrix = numericData.corr()\n",
    "plt.figure(figsize=(20, 10))\n",
    "corr_matrix = corr_matrix.where(np.tril(np.ones(corr_matrix.shape)).astype(np.bool_))\n",
    "sns.heatmap(corr_matrix, annot=True, cmap='Blues')"
   ]
  },
  {
   "cell_type": "code",
   "execution_count": 314,
   "metadata": {},
   "outputs": [
    {
     "data": {
      "image/png": "[encoded data removed]",
      "text/plain": [
       "<Figure size 1440x720 with 16 Axes>"
      ]
     },
     "metadata": {
      "needs_background": "light"
     },
     "output_type": "display_data"
    }
   ],
   "source": [
    "dataset.hist(figsize=(20, 10), bins=50)\n",
    "plt.show()"
   ]
  },
  {
   "cell_type": "code",
   "execution_count": 315,
   "metadata": {},
   "outputs": [
    {
     "data": {
      "image/png": "[encoded data removed]",
      "text/plain": [
       "<Figure size 1440x720 with 16 Axes>"
      ]
     },
     "metadata": {
      "needs_background": "light"
     },
     "output_type": "display_data"
    }
   ],
   "source": [
    "quantile_transformer = QuantileTransformer(output_distribution='normal', random_state=42)\n",
    "normalData = pd.DataFrame(quantile_transformer.fit_transform(numericData), columns=numericData.columns)\n",
    "normalData.hist(figsize=(20, 10), bins=50)\n",
    "plt.show()"
   ]
  },
  {
   "cell_type": "code",
   "execution_count": 316,
   "metadata": {},
   "outputs": [
    {
     "data": {
      "text/html": [
       "<div>\n",
       "<style scoped>\n",
       "    .dataframe tbody tr th:only-of-type {\n",
       "        vertical-align: middle;\n",
       "    }\n",
       "\n",
       "    .dataframe tbody tr th {\n",
       "        vertical-align: top;\n",
       "    }\n",
       "\n",
       "    .dataframe thead th {\n",
       "        text-align: right;\n",
       "    }\n",
       "</style>\n",
       "<table border=\"1\" class=\"dataframe\">\n",
       "  <thead>\n",
       "    <tr style=\"text-align: right;\">\n",
       "      <th></th>\n",
       "      <th>Track Duration (ms)</th>\n",
       "      <th>Popularity</th>\n",
       "      <th>Danceability</th>\n",
       "      <th>Energy</th>\n",
       "      <th>Key</th>\n",
       "      <th>Loudness</th>\n",
       "      <th>Mode</th>\n",
       "      <th>Speechiness</th>\n",
       "      <th>Acousticness</th>\n",
       "      <th>Instrumentalness</th>\n",
       "      <th>Liveness</th>\n",
       "      <th>Valence</th>\n",
       "      <th>Tempo</th>\n",
       "      <th>Time Signature</th>\n",
       "    </tr>\n",
       "  </thead>\n",
       "  <tbody>\n",
       "    <tr>\n",
       "      <th>0</th>\n",
       "      <td>-0.098527</td>\n",
       "      <td>-5.199338</td>\n",
       "      <td>-0.002509</td>\n",
       "      <td>0.928105</td>\n",
       "      <td>0.602943</td>\n",
       "      <td>-1.349627</td>\n",
       "      <td>5.199338</td>\n",
       "      <td>0.198258</td>\n",
       "      <td>-0.733156</td>\n",
       "      <td>1.611333</td>\n",
       "      <td>1.497997</td>\n",
       "      <td>-0.309743</td>\n",
       "      <td>-0.355745</td>\n",
       "      <td>0.041413</td>\n",
       "    </tr>\n",
       "    <tr>\n",
       "      <th>1</th>\n",
       "      <td>0.393584</td>\n",
       "      <td>0.647177</td>\n",
       "      <td>1.571286</td>\n",
       "      <td>0.158740</td>\n",
       "      <td>-0.598435</td>\n",
       "      <td>0.167640</td>\n",
       "      <td>5.199338</td>\n",
       "      <td>1.418119</td>\n",
       "      <td>-0.771450</td>\n",
       "      <td>0.206674</td>\n",
       "      <td>0.642543</td>\n",
       "      <td>0.752997</td>\n",
       "      <td>0.315737</td>\n",
       "      <td>0.041413</td>\n",
       "    </tr>\n",
       "    <tr>\n",
       "      <th>2</th>\n",
       "      <td>1.633323</td>\n",
       "      <td>0.360172</td>\n",
       "      <td>0.426601</td>\n",
       "      <td>-0.241963</td>\n",
       "      <td>0.362850</td>\n",
       "      <td>0.516557</td>\n",
       "      <td>5.199338</td>\n",
       "      <td>-1.006211</td>\n",
       "      <td>1.140077</td>\n",
       "      <td>-0.239405</td>\n",
       "      <td>1.116369</td>\n",
       "      <td>0.373591</td>\n",
       "      <td>-2.204416</td>\n",
       "      <td>0.041413</td>\n",
       "    </tr>\n",
       "    <tr>\n",
       "      <th>3</th>\n",
       "      <td>0.305712</td>\n",
       "      <td>-0.043924</td>\n",
       "      <td>0.472407</td>\n",
       "      <td>0.085414</td>\n",
       "      <td>0.879040</td>\n",
       "      <td>-0.677768</td>\n",
       "      <td>5.199338</td>\n",
       "      <td>1.914506</td>\n",
       "      <td>1.154615</td>\n",
       "      <td>0.329487</td>\n",
       "      <td>-2.180738</td>\n",
       "      <td>0.901416</td>\n",
       "      <td>-2.149300</td>\n",
       "      <td>0.041413</td>\n",
       "    </tr>\n",
       "    <tr>\n",
       "      <th>4</th>\n",
       "      <td>2.643206</td>\n",
       "      <td>-5.199338</td>\n",
       "      <td>-1.831224</td>\n",
       "      <td>-0.408805</td>\n",
       "      <td>-5.199338</td>\n",
       "      <td>-0.822823</td>\n",
       "      <td>5.199338</td>\n",
       "      <td>0.686350</td>\n",
       "      <td>1.394900</td>\n",
       "      <td>0.384387</td>\n",
       "      <td>0.855287</td>\n",
       "      <td>-0.334851</td>\n",
       "      <td>-1.434568</td>\n",
       "      <td>0.041413</td>\n",
       "    </tr>\n",
       "    <tr>\n",
       "      <th>...</th>\n",
       "      <td>...</td>\n",
       "      <td>...</td>\n",
       "      <td>...</td>\n",
       "      <td>...</td>\n",
       "      <td>...</td>\n",
       "      <td>...</td>\n",
       "      <td>...</td>\n",
       "      <td>...</td>\n",
       "      <td>...</td>\n",
       "      <td>...</td>\n",
       "      <td>...</td>\n",
       "      <td>...</td>\n",
       "      <td>...</td>\n",
       "      <td>...</td>\n",
       "    </tr>\n",
       "    <tr>\n",
       "      <th>9441</th>\n",
       "      <td>-1.286702</td>\n",
       "      <td>1.517545</td>\n",
       "      <td>0.031369</td>\n",
       "      <td>0.079120</td>\n",
       "      <td>5.199338</td>\n",
       "      <td>0.336917</td>\n",
       "      <td>-5.199338</td>\n",
       "      <td>0.436240</td>\n",
       "      <td>0.344154</td>\n",
       "      <td>0.200692</td>\n",
       "      <td>0.947580</td>\n",
       "      <td>-0.656486</td>\n",
       "      <td>0.254270</td>\n",
       "      <td>0.041413</td>\n",
       "    </tr>\n",
       "    <tr>\n",
       "      <th>9442</th>\n",
       "      <td>-1.033987</td>\n",
       "      <td>-0.457033</td>\n",
       "      <td>0.751333</td>\n",
       "      <td>0.713599</td>\n",
       "      <td>0.879040</td>\n",
       "      <td>0.029120</td>\n",
       "      <td>5.199338</td>\n",
       "      <td>-0.590949</td>\n",
       "      <td>-1.885771</td>\n",
       "      <td>1.182214</td>\n",
       "      <td>1.116369</td>\n",
       "      <td>0.621099</td>\n",
       "      <td>0.548458</td>\n",
       "      <td>0.041413</td>\n",
       "    </tr>\n",
       "    <tr>\n",
       "      <th>9443</th>\n",
       "      <td>0.161547</td>\n",
       "      <td>0.573115</td>\n",
       "      <td>0.741388</td>\n",
       "      <td>0.494971</td>\n",
       "      <td>0.879040</td>\n",
       "      <td>-0.116903</td>\n",
       "      <td>-5.199338</td>\n",
       "      <td>-0.217488</td>\n",
       "      <td>-2.195675</td>\n",
       "      <td>1.566360</td>\n",
       "      <td>1.275302</td>\n",
       "      <td>0.094232</td>\n",
       "      <td>0.110082</td>\n",
       "      <td>0.041413</td>\n",
       "    </tr>\n",
       "    <tr>\n",
       "      <th>9444</th>\n",
       "      <td>-1.588414</td>\n",
       "      <td>2.307607</td>\n",
       "      <td>-0.562796</td>\n",
       "      <td>0.803958</td>\n",
       "      <td>-0.924252</td>\n",
       "      <td>0.639462</td>\n",
       "      <td>-5.199338</td>\n",
       "      <td>1.584354</td>\n",
       "      <td>-0.191439</td>\n",
       "      <td>0.582716</td>\n",
       "      <td>1.166919</td>\n",
       "      <td>-0.590949</td>\n",
       "      <td>0.063198</td>\n",
       "      <td>0.041413</td>\n",
       "    </tr>\n",
       "    <tr>\n",
       "      <th>9445</th>\n",
       "      <td>-1.277021</td>\n",
       "      <td>0.879040</td>\n",
       "      <td>0.935852</td>\n",
       "      <td>-0.441766</td>\n",
       "      <td>-0.050204</td>\n",
       "      <td>-0.447943</td>\n",
       "      <td>5.199338</td>\n",
       "      <td>1.858377</td>\n",
       "      <td>0.439001</td>\n",
       "      <td>0.805692</td>\n",
       "      <td>-0.395204</td>\n",
       "      <td>0.393847</td>\n",
       "      <td>0.408884</td>\n",
       "      <td>0.041413</td>\n",
       "    </tr>\n",
       "  </tbody>\n",
       "</table>\n",
       "<p>9446 rows × 14 columns</p>\n",
       "</div>"
      ],
      "text/plain": [
       "      Track Duration (ms)  Popularity  Danceability    Energy       Key  \\\n",
       "0               -0.098527   -5.199338     -0.002509  0.928105  0.602943   \n",
       "1                0.393584    0.647177      1.571286  0.158740 -0.598435   \n",
       "2                1.633323    0.360172      0.426601 -0.241963  0.362850   \n",
       "3                0.305712   -0.043924      0.472407  0.085414  0.879040   \n",
       "4                2.643206   -5.199338     -1.831224 -0.408805 -5.199338   \n",
       "...                   ...         ...           ...       ...       ...   \n",
       "9441            -1.286702    1.517545      0.031369  0.079120  5.199338   \n",
       "9442            -1.033987   -0.457033      0.751333  0.713599  0.879040   \n",
       "9443             0.161547    0.573115      0.741388  0.494971  0.879040   \n",
       "9444            -1.588414    2.307607     -0.562796  0.803958 -0.924252   \n",
       "9445            -1.277021    0.879040      0.935852 -0.441766 -0.050204   \n",
       "\n",
       "      Loudness      Mode  Speechiness  Acousticness  Instrumentalness  \\\n",
       "0    -1.349627  5.199338     0.198258     -0.733156          1.611333   \n",
       "1     0.167640  5.199338     1.418119     -0.771450          0.206674   \n",
       "2     0.516557  5.199338    -1.006211      1.140077         -0.239405   \n",
       "3    -0.677768  5.199338     1.914506      1.154615          0.329487   \n",
       "4    -0.822823  5.199338     0.686350      1.394900          0.384387   \n",
       "...        ...       ...          ...           ...               ...   \n",
       "9441  0.336917 -5.199338     0.436240      0.344154          0.200692   \n",
       "9442  0.029120  5.199338    -0.590949     -1.885771          1.182214   \n",
       "9443 -0.116903 -5.199338    -0.217488     -2.195675          1.566360   \n",
       "9444  0.639462 -5.199338     1.584354     -0.191439          0.582716   \n",
       "9445 -0.447943  5.199338     1.858377      0.439001          0.805692   \n",
       "\n",
       "      Liveness   Valence     Tempo  Time Signature  \n",
       "0     1.497997 -0.309743 -0.355745        0.041413  \n",
       "1     0.642543  0.752997  0.315737        0.041413  \n",
       "2     1.116369  0.373591 -2.204416        0.041413  \n",
       "3    -2.180738  0.901416 -2.149300        0.041413  \n",
       "4     0.855287 -0.334851 -1.434568        0.041413  \n",
       "...        ...       ...       ...             ...  \n",
       "9441  0.947580 -0.656486  0.254270        0.041413  \n",
       "9442  1.116369  0.621099  0.548458        0.041413  \n",
       "9443  1.275302  0.094232  0.110082        0.041413  \n",
       "9444  1.166919 -0.590949  0.063198        0.041413  \n",
       "9445 -0.395204  0.393847  0.408884        0.041413  \n",
       "\n",
       "[9446 rows x 14 columns]"
      ]
     },
     "execution_count": 316,
     "metadata": {},
     "output_type": "execute_result"
    }
   ],
   "source": [
    "normalData"
   ]
  },
  {
   "cell_type": "code",
   "execution_count": 317,
   "metadata": {},
   "outputs": [
    {
     "data": {
      "text/html": [
       "<div>\n",
       "<style scoped>\n",
       "    .dataframe tbody tr th:only-of-type {\n",
       "        vertical-align: middle;\n",
       "    }\n",
       "\n",
       "    .dataframe tbody tr th {\n",
       "        vertical-align: top;\n",
       "    }\n",
       "\n",
       "    .dataframe thead th {\n",
       "        text-align: right;\n",
       "    }\n",
       "</style>\n",
       "<table border=\"1\" class=\"dataframe\">\n",
       "  <thead>\n",
       "    <tr style=\"text-align: right;\">\n",
       "      <th></th>\n",
       "      <th>Track Duration (ms)</th>\n",
       "      <th>Popularity</th>\n",
       "      <th>Danceability</th>\n",
       "      <th>Energy</th>\n",
       "      <th>Key</th>\n",
       "      <th>Loudness</th>\n",
       "      <th>Mode</th>\n",
       "      <th>Speechiness</th>\n",
       "      <th>Acousticness</th>\n",
       "      <th>Instrumentalness</th>\n",
       "      <th>Liveness</th>\n",
       "      <th>Valence</th>\n",
       "      <th>Tempo</th>\n",
       "      <th>Time Signature</th>\n",
       "    </tr>\n",
       "  </thead>\n",
       "  <tbody>\n",
       "    <tr>\n",
       "      <th>count</th>\n",
       "      <td>9446.000000</td>\n",
       "      <td>9446.000000</td>\n",
       "      <td>9446.000000</td>\n",
       "      <td>9446.000000</td>\n",
       "      <td>9446.000000</td>\n",
       "      <td>9446.000000</td>\n",
       "      <td>9446.000000</td>\n",
       "      <td>9446.000000</td>\n",
       "      <td>9446.000000</td>\n",
       "      <td>9446.000000</td>\n",
       "      <td>9446.000000</td>\n",
       "      <td>9446.000000</td>\n",
       "      <td>9446.000000</td>\n",
       "      <td>9446.000000</td>\n",
       "    </tr>\n",
       "    <tr>\n",
       "      <th>mean</th>\n",
       "      <td>-0.000081</td>\n",
       "      <td>-1.059183</td>\n",
       "      <td>0.000144</td>\n",
       "      <td>-0.000008</td>\n",
       "      <td>-0.220389</td>\n",
       "      <td>-0.000064</td>\n",
       "      <td>2.055296</td>\n",
       "      <td>0.000169</td>\n",
       "      <td>0.000083</td>\n",
       "      <td>-1.717031</td>\n",
       "      <td>0.000076</td>\n",
       "      <td>0.000159</td>\n",
       "      <td>0.000018</td>\n",
       "      <td>-0.012573</td>\n",
       "    </tr>\n",
       "    <tr>\n",
       "      <th>std</th>\n",
       "      <td>1.000762</td>\n",
       "      <td>2.574114</td>\n",
       "      <td>1.001190</td>\n",
       "      <td>1.001122</td>\n",
       "      <td>2.425451</td>\n",
       "      <td>1.000637</td>\n",
       "      <td>4.776116</td>\n",
       "      <td>1.000335</td>\n",
       "      <td>1.001163</td>\n",
       "      <td>2.915473</td>\n",
       "      <td>1.001133</td>\n",
       "      <td>1.000953</td>\n",
       "      <td>1.000735</td>\n",
       "      <td>0.584748</td>\n",
       "    </tr>\n",
       "    <tr>\n",
       "      <th>min</th>\n",
       "      <td>-5.199338</td>\n",
       "      <td>-5.199338</td>\n",
       "      <td>-5.199338</td>\n",
       "      <td>-5.199338</td>\n",
       "      <td>-5.199338</td>\n",
       "      <td>-5.199338</td>\n",
       "      <td>-5.199338</td>\n",
       "      <td>-5.199338</td>\n",
       "      <td>-5.199338</td>\n",
       "      <td>-5.199338</td>\n",
       "      <td>-5.199338</td>\n",
       "      <td>-5.199338</td>\n",
       "      <td>-5.199338</td>\n",
       "      <td>-5.199338</td>\n",
       "    </tr>\n",
       "    <tr>\n",
       "      <th>25%</th>\n",
       "      <td>-0.674019</td>\n",
       "      <td>-5.199338</td>\n",
       "      <td>-0.675277</td>\n",
       "      <td>-0.676854</td>\n",
       "      <td>-0.598435</td>\n",
       "      <td>-0.674113</td>\n",
       "      <td>-5.199338</td>\n",
       "      <td>-0.668987</td>\n",
       "      <td>-0.676066</td>\n",
       "      <td>-5.199338</td>\n",
       "      <td>-0.673702</td>\n",
       "      <td>-0.673702</td>\n",
       "      <td>-0.675056</td>\n",
       "      <td>0.041413</td>\n",
       "    </tr>\n",
       "    <tr>\n",
       "      <th>50%</th>\n",
       "      <td>-0.000662</td>\n",
       "      <td>0.002509</td>\n",
       "      <td>-0.002509</td>\n",
       "      <td>-0.002509</td>\n",
       "      <td>-0.050204</td>\n",
       "      <td>0.000213</td>\n",
       "      <td>5.199338</td>\n",
       "      <td>0.001255</td>\n",
       "      <td>0.000389</td>\n",
       "      <td>0.000200</td>\n",
       "      <td>0.005018</td>\n",
       "      <td>0.001255</td>\n",
       "      <td>-0.000307</td>\n",
       "      <td>0.041413</td>\n",
       "    </tr>\n",
       "    <tr>\n",
       "      <th>75%</th>\n",
       "      <td>0.674063</td>\n",
       "      <td>0.691121</td>\n",
       "      <td>0.676854</td>\n",
       "      <td>0.676854</td>\n",
       "      <td>0.602943</td>\n",
       "      <td>0.674057</td>\n",
       "      <td>5.199338</td>\n",
       "      <td>0.674900</td>\n",
       "      <td>0.674884</td>\n",
       "      <td>0.674877</td>\n",
       "      <td>0.673702</td>\n",
       "      <td>0.676854</td>\n",
       "      <td>0.675305</td>\n",
       "      <td>0.041413</td>\n",
       "    </tr>\n",
       "    <tr>\n",
       "      <th>max</th>\n",
       "      <td>5.199338</td>\n",
       "      <td>5.199338</td>\n",
       "      <td>5.199338</td>\n",
       "      <td>5.199338</td>\n",
       "      <td>5.199338</td>\n",
       "      <td>5.199338</td>\n",
       "      <td>5.199338</td>\n",
       "      <td>5.199338</td>\n",
       "      <td>5.199338</td>\n",
       "      <td>5.199338</td>\n",
       "      <td>5.199338</td>\n",
       "      <td>5.199338</td>\n",
       "      <td>5.199338</td>\n",
       "      <td>5.199338</td>\n",
       "    </tr>\n",
       "  </tbody>\n",
       "</table>\n",
       "</div>"
      ],
      "text/plain": [
       "       Track Duration (ms)   Popularity  Danceability       Energy  \\\n",
       "count          9446.000000  9446.000000   9446.000000  9446.000000   \n",
       "mean             -0.000081    -1.059183      0.000144    -0.000008   \n",
       "std               1.000762     2.574114      1.001190     1.001122   \n",
       "min              -5.199338    -5.199338     -5.199338    -5.199338   \n",
       "25%              -0.674019    -5.199338     -0.675277    -0.676854   \n",
       "50%              -0.000662     0.002509     -0.002509    -0.002509   \n",
       "75%               0.674063     0.691121      0.676854     0.676854   \n",
       "max               5.199338     5.199338      5.199338     5.199338   \n",
       "\n",
       "               Key     Loudness         Mode  Speechiness  Acousticness  \\\n",
       "count  9446.000000  9446.000000  9446.000000  9446.000000   9446.000000   \n",
       "mean     -0.220389    -0.000064     2.055296     0.000169      0.000083   \n",
       "std       2.425451     1.000637     4.776116     1.000335      1.001163   \n",
       "min      -5.199338    -5.199338    -5.199338    -5.199338     -5.199338   \n",
       "25%      -0.598435    -0.674113    -5.199338    -0.668987     -0.676066   \n",
       "50%      -0.050204     0.000213     5.199338     0.001255      0.000389   \n",
       "75%       0.602943     0.674057     5.199338     0.674900      0.674884   \n",
       "max       5.199338     5.199338     5.199338     5.199338      5.199338   \n",
       "\n",
       "       Instrumentalness     Liveness      Valence        Tempo  Time Signature  \n",
       "count       9446.000000  9446.000000  9446.000000  9446.000000     9446.000000  \n",
       "mean          -1.717031     0.000076     0.000159     0.000018       -0.012573  \n",
       "std            2.915473     1.001133     1.000953     1.000735        0.584748  \n",
       "min           -5.199338    -5.199338    -5.199338    -5.199338       -5.199338  \n",
       "25%           -5.199338    -0.673702    -0.673702    -0.675056        0.041413  \n",
       "50%            0.000200     0.005018     0.001255    -0.000307        0.041413  \n",
       "75%            0.674877     0.673702     0.676854     0.675305        0.041413  \n",
       "max            5.199338     5.199338     5.199338     5.199338        5.199338  "
      ]
     },
     "execution_count": 317,
     "metadata": {},
     "output_type": "execute_result"
    }
   ],
   "source": [
    "normalData.describe()"
   ]
  },
  {
   "cell_type": "code",
   "execution_count": 318,
   "metadata": {},
   "outputs": [],
   "source": [
    "highTempo = normalData[normalData['Tempo'] > 0.01]\n",
    "lowTempo = normalData[normalData['Tempo'] <= 0.01]"
   ]
  },
  {
   "cell_type": "code",
   "execution_count": 319,
   "metadata": {},
   "outputs": [
    {
     "name": "stdout",
     "output_type": "stream",
     "text": [
      "(4688, 14)\n",
      "(4758, 14)\n"
     ]
    }
   ],
   "source": [
    "print(highTempo.shape)\n",
    "print(lowTempo.shape)"
   ]
  },
  {
   "cell_type": "markdown",
   "metadata": {},
   "source": [
    "# Question1: \n",
    "### Music in which tempo range are more likely to be listened by people?\n",
    "### using _Two-sample t-test_"
   ]
  },
  {
   "cell_type": "code",
   "execution_count": 320,
   "metadata": {},
   "outputs": [
    {
     "name": "stdout",
     "output_type": "stream",
     "text": [
      "-0.7809343119124558 0.4348607045688503\n"
     ]
    }
   ],
   "source": [
    "alpha = 0.05 \n",
    "stat, p_value = sp.ttest_ind(highTempo.Popularity, lowTempo.Popularity, equal_var=True, alternative='two-sided')\n",
    "print(stat, p_value)"
   ]
  },
  {
   "cell_type": "code",
   "execution_count": 321,
   "metadata": {},
   "outputs": [
    {
     "data": {
      "image/png": "[encoded data removed]",
      "text/plain": [
       "<Figure size 1080x360 with 1 Axes>"
      ]
     },
     "metadata": {
      "needs_background": "light"
     },
     "output_type": "display_data"
    }
   ],
   "source": [
    "plt.figure(figsize=(15, 5))\n",
    "sns.boxplot(x=highTempo['Popularity'])\n",
    "plt.show()"
   ]
  },
  {
   "cell_type": "code",
   "execution_count": 322,
   "metadata": {},
   "outputs": [
    {
     "data": {
      "image/png": "[encoded data removed]",
      "text/plain": [
       "<Figure size 1080x360 with 1 Axes>"
      ]
     },
     "metadata": {
      "needs_background": "light"
     },
     "output_type": "display_data"
    }
   ],
   "source": [
    "plt.figure(figsize=(15, 5))\n",
    "sns.boxplot(x=lowTempo['Popularity'])\n",
    "plt.show()"
   ]
  },
  {
   "cell_type": "code",
   "execution_count": 346,
   "metadata": {},
   "outputs": [],
   "source": [
    "highTempoPop = pd.DataFrame(data=np.array(highTempo['Popularity']), columns=['hPopularity'])\n",
    "lowTempoPop = pd.DataFrame(data=np.array(lowTempo['Popularity']), columns=['mPopularity'])"
   ]
  },
  {
   "cell_type": "code",
   "execution_count": 347,
   "metadata": {},
   "outputs": [],
   "source": [
    "energy = pd.concat([highTempoPop, lowTempoPop])"
   ]
  },
  {
   "cell_type": "code",
   "execution_count": 348,
   "metadata": {},
   "outputs": [
    {
     "data": {
      "text/plain": [
       "<seaborn.axisgrid.FacetGrid at 0x27a22e2a1a0>"
      ]
     },
     "execution_count": 348,
     "metadata": {},
     "output_type": "execute_result"
    },
    {
     "data": {
      "image/png": "[encoded data removed]",
      "text/plain": [
       "<Figure size 455.625x360 with 1 Axes>"
      ]
     },
     "metadata": {
      "needs_background": "light"
     },
     "output_type": "display_data"
    }
   ],
   "source": [
    "sns.displot(data=energy, kind='kde')"
   ]
  },
  {
   "cell_type": "markdown",
   "metadata": {},
   "source": [
    "# Question2: \n",
    "### Do people prefer to listen to long music or short music?\n",
    "### using _Two-sample t-test_"
   ]
  },
  {
   "cell_type": "code",
   "execution_count": 323,
   "metadata": {},
   "outputs": [],
   "source": [
    "longMusic = dataset[dataset['Track Duration (ms)'] > 220000]\n",
    "shortMusic = dataset[dataset['Track Duration (ms)'] <= 220000]"
   ]
  },
  {
   "cell_type": "code",
   "execution_count": 324,
   "metadata": {},
   "outputs": [
    {
     "name": "stdout",
     "output_type": "stream",
     "text": [
      "(4757, 20)\n",
      "(4689, 20)\n"
     ]
    }
   ],
   "source": [
    "print(longMusic.shape)\n",
    "print(shortMusic.shape)"
   ]
  },
  {
   "cell_type": "code",
   "execution_count": 325,
   "metadata": {},
   "outputs": [
    {
     "name": "stdout",
     "output_type": "stream",
     "text": [
      "0.08625135024866065 0.9312684396341753\n"
     ]
    }
   ],
   "source": [
    "alpha = 0.05 \n",
    "stat, p_value = sp.ttest_ind(longMusic.Popularity, shortMusic.Popularity, equal_var=True, alternative='two-sided')\n",
    "print(stat, p_value)"
   ]
  },
  {
   "cell_type": "code",
   "execution_count": 326,
   "metadata": {},
   "outputs": [
    {
     "data": {
      "image/png": "[encoded data removed]",
      "text/plain": [
       "<Figure size 1080x360 with 1 Axes>"
      ]
     },
     "metadata": {
      "needs_background": "light"
     },
     "output_type": "display_data"
    }
   ],
   "source": [
    "plt.figure(figsize=(15, 5))\n",
    "sns.boxplot(x=longMusic['Popularity'])\n",
    "plt.show()"
   ]
  },
  {
   "cell_type": "code",
   "execution_count": 327,
   "metadata": {},
   "outputs": [
    {
     "data": {
      "image/png": "[encoded data removed]",
      "text/plain": [
       "<Figure size 1080x360 with 1 Axes>"
      ]
     },
     "metadata": {
      "needs_background": "light"
     },
     "output_type": "display_data"
    }
   ],
   "source": [
    "plt.figure(figsize=(15, 5))\n",
    "sns.boxplot(x=shortMusic['Popularity'])\n",
    "plt.show()"
   ]
  },
  {
   "cell_type": "code",
   "execution_count": 328,
   "metadata": {},
   "outputs": [],
   "source": [
    "genres = {'1'}\n",
    "allGen = dataset['Artist Genres']\n",
    "for item in allGen:\n",
    "    list = item.split(',')\n",
    "    for listItem in list:\n",
    "        genres.add(listItem.lower())"
   ]
  },
  {
   "cell_type": "code",
   "execution_count": 329,
   "metadata": {},
   "outputs": [
    {
     "name": "stdout",
     "output_type": "stream",
     "text": [
      "909\n"
     ]
    }
   ],
   "source": [
    "print(len(genres))"
   ]
  },
  {
   "cell_type": "markdown",
   "metadata": {},
   "source": [
    "# Question3:\n",
    "### Does beiing energetic affect popularity of songs?\n",
    "### using _ANOVA test_"
   ]
  },
  {
   "cell_type": "code",
   "execution_count": 330,
   "metadata": {},
   "outputs": [],
   "source": [
    "lowEnergy = dataset[dataset['Energy'] < 0.6]\n",
    "moderateEnergy = dataset[(dataset['Energy'] >= 0.6) & (dataset['Energy'] < 0.8)]\n",
    "highEnergy = dataset[dataset['Energy'] >= 0.8]"
   ]
  },
  {
   "cell_type": "code",
   "execution_count": 331,
   "metadata": {},
   "outputs": [
    {
     "name": "stdout",
     "output_type": "stream",
     "text": [
      "(2814, 20)\n",
      "(3567, 20)\n",
      "(3065, 20)\n"
     ]
    }
   ],
   "source": [
    "print(lowEnergy.shape)\n",
    "print(moderateEnergy.shape)\n",
    "print(highEnergy.shape)"
   ]
  },
  {
   "cell_type": "code",
   "execution_count": 332,
   "metadata": {},
   "outputs": [
    {
     "name": "stdout",
     "output_type": "stream",
     "text": [
      "4.608746297588602 0.0099867265004949\n"
     ]
    }
   ],
   "source": [
    "alpha = 0.05 \n",
    "stat, p_value = sp.f_oneway(lowEnergy.Popularity, moderateEnergy.Popularity, highEnergy.Popularity)\n",
    "print(stat, p_value)"
   ]
  },
  {
   "cell_type": "code",
   "execution_count": 333,
   "metadata": {},
   "outputs": [
    {
     "data": {
      "image/png": "[encoded data removed]",
      "text/plain": [
       "<Figure size 1080x360 with 1 Axes>"
      ]
     },
     "metadata": {
      "needs_background": "light"
     },
     "output_type": "display_data"
    }
   ],
   "source": [
    "plt.figure(figsize=(15, 5))\n",
    "sns.boxplot(x=lowEnergy['Popularity'])\n",
    "plt.show()"
   ]
  },
  {
   "cell_type": "code",
   "execution_count": 334,
   "metadata": {},
   "outputs": [
    {
     "data": {
      "image/png": "[encoded data removed]",
      "text/plain": [
       "<Figure size 1080x360 with 1 Axes>"
      ]
     },
     "metadata": {
      "needs_background": "light"
     },
     "output_type": "display_data"
    }
   ],
   "source": [
    "plt.figure(figsize=(15, 5))\n",
    "sns.boxplot(x=moderateEnergy['Popularity'])\n",
    "plt.show()"
   ]
  },
  {
   "cell_type": "code",
   "execution_count": 335,
   "metadata": {},
   "outputs": [
    {
     "data": {
      "image/png": "[encoded data removed]",
      "text/plain": [
       "<Figure size 1080x360 with 1 Axes>"
      ]
     },
     "metadata": {
      "needs_background": "light"
     },
     "output_type": "display_data"
    }
   ],
   "source": [
    "plt.figure(figsize=(15, 5))\n",
    "sns.boxplot(x=highEnergy['Popularity'])\n",
    "plt.show()"
   ]
  },
  {
   "cell_type": "code",
   "execution_count": 336,
   "metadata": {},
   "outputs": [],
   "source": [
    "hPopularity = pd.DataFrame(data=np.array(highEnergy['Popularity']), columns=['hPopularity'])\n",
    "mPopularity = pd.DataFrame(data=np.array(moderateEnergy['Popularity']), columns=['mPopularity'])\n",
    "lPopularity = pd.DataFrame(data=np.array(lowEnergy['Popularity']), columns=['lPopularity'])"
   ]
  },
  {
   "cell_type": "code",
   "execution_count": 337,
   "metadata": {},
   "outputs": [
    {
     "name": "stdout",
     "output_type": "stream",
     "text": [
      "<class 'pandas.core.frame.DataFrame'>\n",
      "Index: 9446 entries, 0 to 2813\n",
      "Data columns (total 3 columns):\n",
      " #   Column       Non-Null Count  Dtype  \n",
      "---  ------       --------------  -----  \n",
      " 0   hPopularity  3065 non-null   float64\n",
      " 1   mPopularity  3567 non-null   float64\n",
      " 2   lPopularity  2814 non-null   float64\n",
      "dtypes: float64(3)\n",
      "memory usage: 295.2 KB\n"
     ]
    }
   ],
   "source": [
    "energy = pd.concat([hPopularity, mPopularity, lPopularity])\n",
    "energy.info()"
   ]
  },
  {
   "cell_type": "code",
   "execution_count": 338,
   "metadata": {},
   "outputs": [
    {
     "data": {
      "text/plain": [
       "<seaborn.axisgrid.FacetGrid at 0x27a226401c0>"
      ]
     },
     "execution_count": 338,
     "metadata": {},
     "output_type": "execute_result"
    },
    {
     "data": {
      "image/png": "[encoded data removed]",
      "text/plain": [
       "<Figure size 455.625x360 with 1 Axes>"
      ]
     },
     "metadata": {
      "needs_background": "light"
     },
     "output_type": "display_data"
    }
   ],
   "source": [
    "sns.displot(data=energy, kind='kde')"
   ]
  },
  {
   "cell_type": "code",
   "execution_count": 339,
   "metadata": {},
   "outputs": [
    {
     "name": "stdout",
     "output_type": "stream",
     "text": [
      "2593.1094976408385 0.0\n"
     ]
    }
   ],
   "source": [
    "alpha = 0.05 \n",
    "stat, p_value = sp.f_oneway(lowEnergy.Loudness, moderateEnergy.Loudness, highEnergy.Loudness)\n",
    "print(stat, p_value)"
   ]
  },
  {
   "cell_type": "code",
   "execution_count": 340,
   "metadata": {},
   "outputs": [
    {
     "data": {
      "image/png": "[encoded data removed]",
      "text/plain": [
       "<Figure size 1080x360 with 1 Axes>"
      ]
     },
     "metadata": {
      "needs_background": "light"
     },
     "output_type": "display_data"
    }
   ],
   "source": [
    "plt.figure(figsize=(15, 5))\n",
    "sns.boxplot(x=lowEnergy['Loudness'])\n",
    "plt.show()"
   ]
  },
  {
   "cell_type": "code",
   "execution_count": 341,
   "metadata": {},
   "outputs": [
    {
     "data": {
      "image/png": "[encoded data removed]",
      "text/plain": [
       "<Figure size 1080x360 with 1 Axes>"
      ]
     },
     "metadata": {
      "needs_background": "light"
     },
     "output_type": "display_data"
    }
   ],
   "source": [
    "plt.figure(figsize=(15, 5))\n",
    "sns.boxplot(x=highEnergy['Loudness'])\n",
    "plt.show()"
   ]
  },
  {
   "cell_type": "code",
   "execution_count": 342,
   "metadata": {},
   "outputs": [
    {
     "data": {
      "image/png": "[encoded data removed]",
      "text/plain": [
       "<Figure size 1080x360 with 1 Axes>"
      ]
     },
     "metadata": {
      "needs_background": "light"
     },
     "output_type": "display_data"
    }
   ],
   "source": [
    "plt.figure(figsize=(15, 5))\n",
    "sns.boxplot(x=moderateEnergy['Loudness'])\n",
    "plt.show()"
   ]
  },
  {
   "cell_type": "code",
   "execution_count": 343,
   "metadata": {},
   "outputs": [],
   "source": [
    "hLoudness = pd.DataFrame(data=np.array(highEnergy['Loudness']), columns=['hLoudness'])\n",
    "mLoudness = pd.DataFrame(data=np.array(moderateEnergy['Loudness']), columns=['mLoudness'])\n",
    "lLoudness = pd.DataFrame(data=np.array(lowEnergy['Loudness']), columns=['lLoudness'])"
   ]
  },
  {
   "cell_type": "code",
   "execution_count": 344,
   "metadata": {},
   "outputs": [],
   "source": [
    "energy = pd.concat([hLoudness, mLoudness, lLoudness])"
   ]
  },
  {
   "cell_type": "code",
   "execution_count": 345,
   "metadata": {},
   "outputs": [
    {
     "data": {
      "text/plain": [
       "<seaborn.axisgrid.FacetGrid at 0x27a14b91ba0>"
      ]
     },
     "execution_count": 345,
     "metadata": {},
     "output_type": "execute_result"
    },
    {
     "data": {
      "image/png": "[encoded data removed]",
      "text/plain": [
       "<Figure size 452.75x360 with 1 Axes>"
      ]
     },
     "metadata": {
      "needs_background": "light"
     },
     "output_type": "display_data"
    }
   ],
   "source": [
    "sns.displot(data=energy, kind='kde')"
   ]
  },
  {
   "cell_type": "code",
   "execution_count": null,
   "metadata": {},
   "outputs": [],
   "source": []
  }
 ],
 "metadata": {
  "kernelspec": {
   "display_name": "Python 3",
   "language": "python",
   "name": "python3"
  },
  "language_info": {
   "codemirror_mode": {
    "name": "ipython",
    "version": 3
   },
   "file_extension": ".py",
   "mimetype": "text/x-python",
   "name": "python",
   "nbconvert_exporter": "python",
   "pygments_lexer": "ipython3",
   "version": "3.10.4"
  },
  "orig_nbformat": 4
 },
 "nbformat": 4,
 "nbformat_minor": 2
}
